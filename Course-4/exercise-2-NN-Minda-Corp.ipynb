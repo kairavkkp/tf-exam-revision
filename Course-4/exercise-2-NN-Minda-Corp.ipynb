{
 "cells": [
  {
   "cell_type": "code",
   "execution_count": 1,
   "metadata": {},
   "outputs": [],
   "source": [
    "import pandas as pd\n",
    "import matplotlib.pyplot as plt\n",
    "%matplotlib inline\n",
    "import numpy as np\n",
    "import tensorflow as tf\n",
    "from numba import cuda"
   ]
  },
  {
   "cell_type": "code",
   "execution_count": 2,
   "metadata": {},
   "outputs": [
    {
     "data": {
      "text/html": [
       "<div>\n",
       "<style scoped>\n",
       "    .dataframe tbody tr th:only-of-type {\n",
       "        vertical-align: middle;\n",
       "    }\n",
       "\n",
       "    .dataframe tbody tr th {\n",
       "        vertical-align: top;\n",
       "    }\n",
       "\n",
       "    .dataframe thead th {\n",
       "        text-align: right;\n",
       "    }\n",
       "</style>\n",
       "<table border=\"1\" class=\"dataframe\">\n",
       "  <thead>\n",
       "    <tr style=\"text-align: right;\">\n",
       "      <th></th>\n",
       "      <th>Date</th>\n",
       "      <th>Open Price</th>\n",
       "      <th>High Price</th>\n",
       "      <th>Low Price</th>\n",
       "      <th>Close Price</th>\n",
       "      <th>WAP</th>\n",
       "      <th>No.of Shares</th>\n",
       "      <th>No. of Trades</th>\n",
       "      <th>Total Turnover (Rs.)</th>\n",
       "      <th>Deliverable Quantity</th>\n",
       "      <th>% Deli. Qty to Traded Qty</th>\n",
       "      <th>Spread High-Low</th>\n",
       "      <th>Spread Close-Open</th>\n",
       "    </tr>\n",
       "  </thead>\n",
       "  <tbody>\n",
       "    <tr>\n",
       "      <th>1221</th>\n",
       "      <td>23-February-2015</td>\n",
       "      <td>99.00</td>\n",
       "      <td>99.80</td>\n",
       "      <td>93.00</td>\n",
       "      <td>93.00</td>\n",
       "      <td>95.314957</td>\n",
       "      <td>2340</td>\n",
       "      <td>46</td>\n",
       "      <td>223037.0</td>\n",
       "      <td>2140.0</td>\n",
       "      <td>91.45</td>\n",
       "      <td>6.80</td>\n",
       "      <td>-6.00</td>\n",
       "    </tr>\n",
       "    <tr>\n",
       "      <th>1220</th>\n",
       "      <td>24-February-2015</td>\n",
       "      <td>97.50</td>\n",
       "      <td>97.50</td>\n",
       "      <td>88.35</td>\n",
       "      <td>94.85</td>\n",
       "      <td>92.268180</td>\n",
       "      <td>2819</td>\n",
       "      <td>114</td>\n",
       "      <td>260104.0</td>\n",
       "      <td>1614.0</td>\n",
       "      <td>57.25</td>\n",
       "      <td>9.15</td>\n",
       "      <td>-2.65</td>\n",
       "    </tr>\n",
       "    <tr>\n",
       "      <th>1219</th>\n",
       "      <td>25-February-2015</td>\n",
       "      <td>97.95</td>\n",
       "      <td>97.95</td>\n",
       "      <td>91.00</td>\n",
       "      <td>95.00</td>\n",
       "      <td>94.477243</td>\n",
       "      <td>769</td>\n",
       "      <td>36</td>\n",
       "      <td>72653.0</td>\n",
       "      <td>709.0</td>\n",
       "      <td>92.20</td>\n",
       "      <td>6.95</td>\n",
       "      <td>-2.95</td>\n",
       "    </tr>\n",
       "    <tr>\n",
       "      <th>1218</th>\n",
       "      <td>26-February-2015</td>\n",
       "      <td>94.50</td>\n",
       "      <td>94.50</td>\n",
       "      <td>90.25</td>\n",
       "      <td>90.90</td>\n",
       "      <td>91.546419</td>\n",
       "      <td>754</td>\n",
       "      <td>12</td>\n",
       "      <td>69026.0</td>\n",
       "      <td>754.0</td>\n",
       "      <td>100.00</td>\n",
       "      <td>4.25</td>\n",
       "      <td>-3.60</td>\n",
       "    </tr>\n",
       "    <tr>\n",
       "      <th>1217</th>\n",
       "      <td>27-February-2015</td>\n",
       "      <td>90.00</td>\n",
       "      <td>95.40</td>\n",
       "      <td>89.25</td>\n",
       "      <td>92.75</td>\n",
       "      <td>91.951327</td>\n",
       "      <td>226</td>\n",
       "      <td>63</td>\n",
       "      <td>20781.0</td>\n",
       "      <td>110.0</td>\n",
       "      <td>48.67</td>\n",
       "      <td>6.15</td>\n",
       "      <td>2.75</td>\n",
       "    </tr>\n",
       "  </tbody>\n",
       "</table>\n",
       "</div>"
      ],
      "text/plain": [
       "                  Date  Open Price  High Price  Low Price  Close Price  \\\n",
       "1221  23-February-2015       99.00       99.80      93.00        93.00   \n",
       "1220  24-February-2015       97.50       97.50      88.35        94.85   \n",
       "1219  25-February-2015       97.95       97.95      91.00        95.00   \n",
       "1218  26-February-2015       94.50       94.50      90.25        90.90   \n",
       "1217  27-February-2015       90.00       95.40      89.25        92.75   \n",
       "\n",
       "            WAP  No.of Shares  No. of Trades  Total Turnover (Rs.)  \\\n",
       "1221  95.314957          2340             46              223037.0   \n",
       "1220  92.268180          2819            114              260104.0   \n",
       "1219  94.477243           769             36               72653.0   \n",
       "1218  91.546419           754             12               69026.0   \n",
       "1217  91.951327           226             63               20781.0   \n",
       "\n",
       "      Deliverable Quantity  % Deli. Qty to Traded Qty  Spread High-Low  \\\n",
       "1221                2140.0                      91.45             6.80   \n",
       "1220                1614.0                      57.25             9.15   \n",
       "1219                 709.0                      92.20             6.95   \n",
       "1218                 754.0                     100.00             4.25   \n",
       "1217                 110.0                      48.67             6.15   \n",
       "\n",
       "      Spread Close-Open  \n",
       "1221              -6.00  \n",
       "1220              -2.65  \n",
       "1219              -2.95  \n",
       "1218              -3.60  \n",
       "1217               2.75  "
      ]
     },
     "execution_count": 2,
     "metadata": {},
     "output_type": "execute_result"
    }
   ],
   "source": [
    "df = pd.read_csv('../data/minda-corp.csv')\n",
    "df = df.iloc[::-1]\n",
    "df.head()"
   ]
  },
  {
   "cell_type": "code",
   "execution_count": 4,
   "metadata": {},
   "outputs": [],
   "source": [
    "close_price = np.array(df[\"Close Price\"].values)"
   ]
  },
  {
   "cell_type": "code",
   "execution_count": 5,
   "metadata": {},
   "outputs": [],
   "source": [
    "time = np.arange(len(close_price))"
   ]
  },
  {
   "cell_type": "code",
   "execution_count": 7,
   "metadata": {},
   "outputs": [],
   "source": [
    "def windowed_dataset(series,window_size,batch_size,shuffle_buffer_size):\n",
    "    data = tf.data.Dataset.from_tensor_slices(series)\n",
    "    data = data.window(window_size+1,shift=1,drop_remainder=True)\n",
    "    data = data.flat_map(lambda window : window.batch(window_size + 1))\n",
    "    data = data.shuffle(shuffle_buffer_size).map(lambda window: (window[:-1], window[-1]))\n",
    "    data = data.batch(batch_size).prefetch(1)\n",
    "    return data"
   ]
  },
  {
   "cell_type": "code",
   "execution_count": 8,
   "metadata": {},
   "outputs": [],
   "source": [
    "split_time = 900\n",
    "price_train = close_price[:split_time]\n",
    "time_train = time[:split_time]\n",
    "\n",
    "price_valid = close_price[split_time:]\n",
    "time_valid = time[split_time:]\n"
   ]
  },
  {
   "cell_type": "code",
   "execution_count": 9,
   "metadata": {},
   "outputs": [],
   "source": [
    "window_size = 20\n",
    "batch_size = 32\n",
    "shuffle_buffer_size = 1000\n",
    "dataset = windowed_dataset(price_train,window_size,batch_size,shuffle_buffer_size)\n"
   ]
  },
  {
   "cell_type": "markdown",
   "metadata": {},
   "source": [
    "### Single Layer Network"
   ]
  },
  {
   "cell_type": "code",
   "execution_count": 8,
   "metadata": {},
   "outputs": [],
   "source": [
    "model = tf.keras.Sequential([tf.keras.layers.Dense(1,input_shape=[window_size])])"
   ]
  },
  {
   "cell_type": "code",
   "execution_count": 9,
   "metadata": {},
   "outputs": [],
   "source": [
    "model.compile(loss='mse',optimizer=tf.keras.optimizers.SGD(learning_rate=1e-6, momentum=0.9))"
   ]
  },
  {
   "cell_type": "code",
   "execution_count": 10,
   "metadata": {
    "collapsed": true
   },
   "outputs": [
    {
     "name": "stdout",
     "output_type": "stream",
     "text": [
      "Epoch 1/100\n",
      "28/28 - 0s - loss: 4222.9956\n",
      "Epoch 2/100\n",
      "28/28 - 0s - loss: 427.9913\n",
      "Epoch 3/100\n",
      "28/28 - 0s - loss: 239.3992\n",
      "Epoch 4/100\n",
      "28/28 - 0s - loss: 172.4183\n",
      "Epoch 5/100\n",
      "28/28 - 0s - loss: 130.9536\n",
      "Epoch 6/100\n",
      "28/28 - 0s - loss: 113.7454\n",
      "Epoch 7/100\n",
      "28/28 - 0s - loss: 116.5714\n",
      "Epoch 8/100\n",
      "28/28 - 0s - loss: 78.3569\n",
      "Epoch 9/100\n",
      "28/28 - 0s - loss: 77.2970\n",
      "Epoch 10/100\n",
      "28/28 - 0s - loss: 75.6287\n",
      "Epoch 11/100\n",
      "28/28 - 0s - loss: 66.9419\n",
      "Epoch 12/100\n",
      "28/28 - 0s - loss: 58.5004\n",
      "Epoch 13/100\n",
      "28/28 - 0s - loss: 73.1270\n",
      "Epoch 14/100\n",
      "28/28 - 0s - loss: 64.4831\n",
      "Epoch 15/100\n",
      "28/28 - 0s - loss: 65.6091\n",
      "Epoch 16/100\n",
      "28/28 - 0s - loss: 49.6201\n",
      "Epoch 17/100\n",
      "28/28 - 0s - loss: 55.4019\n",
      "Epoch 18/100\n",
      "28/28 - 0s - loss: 45.6949\n",
      "Epoch 19/100\n",
      "28/28 - 0s - loss: 45.7804\n",
      "Epoch 20/100\n",
      "28/28 - 0s - loss: 41.6666\n",
      "Epoch 21/100\n",
      "28/28 - 0s - loss: 42.2722\n",
      "Epoch 22/100\n",
      "28/28 - 0s - loss: 49.1628\n",
      "Epoch 23/100\n",
      "28/28 - 0s - loss: 50.8675\n",
      "Epoch 24/100\n",
      "28/28 - 0s - loss: 39.2079\n",
      "Epoch 25/100\n",
      "28/28 - 0s - loss: 39.3166\n",
      "Epoch 26/100\n",
      "28/28 - 0s - loss: 46.6305\n",
      "Epoch 27/100\n",
      "28/28 - 0s - loss: 35.8707\n",
      "Epoch 28/100\n",
      "28/28 - 0s - loss: 36.1976\n",
      "Epoch 29/100\n",
      "28/28 - 0s - loss: 40.8146\n",
      "Epoch 30/100\n",
      "28/28 - 0s - loss: 38.6546\n",
      "Epoch 31/100\n",
      "28/28 - 0s - loss: 39.9141\n",
      "Epoch 32/100\n",
      "28/28 - 0s - loss: 38.5344\n",
      "Epoch 33/100\n",
      "28/28 - 0s - loss: 36.6972\n",
      "Epoch 34/100\n",
      "28/28 - 0s - loss: 34.3324\n",
      "Epoch 35/100\n",
      "28/28 - 0s - loss: 35.4267\n",
      "Epoch 36/100\n",
      "28/28 - 0s - loss: 33.7215\n",
      "Epoch 37/100\n",
      "28/28 - 0s - loss: 32.1535\n",
      "Epoch 38/100\n",
      "28/28 - 0s - loss: 34.3635\n",
      "Epoch 39/100\n",
      "28/28 - 0s - loss: 33.3216\n",
      "Epoch 40/100\n",
      "28/28 - 0s - loss: 39.5608\n",
      "Epoch 41/100\n",
      "28/28 - 0s - loss: 42.6551\n",
      "Epoch 42/100\n",
      "28/28 - 0s - loss: 30.5033\n",
      "Epoch 43/100\n",
      "28/28 - 0s - loss: 28.9662\n",
      "Epoch 44/100\n",
      "28/28 - 0s - loss: 30.5885\n",
      "Epoch 45/100\n",
      "28/28 - 0s - loss: 29.7010\n",
      "Epoch 46/100\n",
      "28/28 - 0s - loss: 31.6673\n",
      "Epoch 47/100\n",
      "28/28 - 0s - loss: 32.5486\n",
      "Epoch 48/100\n",
      "28/28 - 0s - loss: 29.2289\n",
      "Epoch 49/100\n",
      "28/28 - 0s - loss: 27.7166\n",
      "Epoch 50/100\n",
      "28/28 - 0s - loss: 27.5879\n",
      "Epoch 51/100\n",
      "28/28 - 0s - loss: 29.6842\n",
      "Epoch 52/100\n",
      "28/28 - 0s - loss: 28.9824\n",
      "Epoch 53/100\n",
      "28/28 - 0s - loss: 33.0572\n",
      "Epoch 54/100\n",
      "28/28 - 0s - loss: 26.1018\n",
      "Epoch 55/100\n",
      "28/28 - 0s - loss: 27.2625\n",
      "Epoch 56/100\n",
      "28/28 - 0s - loss: 26.8127\n",
      "Epoch 57/100\n",
      "28/28 - 0s - loss: 25.7894\n",
      "Epoch 58/100\n",
      "28/28 - 0s - loss: 28.6966\n",
      "Epoch 59/100\n",
      "28/28 - 0s - loss: 24.8438\n",
      "Epoch 60/100\n",
      "28/28 - 0s - loss: 24.4760\n",
      "Epoch 61/100\n",
      "28/28 - 0s - loss: 25.3387\n",
      "Epoch 62/100\n",
      "28/28 - 0s - loss: 33.5468\n",
      "Epoch 63/100\n",
      "28/28 - 0s - loss: 24.3728\n",
      "Epoch 64/100\n",
      "28/28 - 0s - loss: 26.3306\n",
      "Epoch 65/100\n",
      "28/28 - 0s - loss: 28.5994\n",
      "Epoch 66/100\n",
      "28/28 - 0s - loss: 28.0815\n",
      "Epoch 67/100\n",
      "28/28 - 0s - loss: 26.8640\n",
      "Epoch 68/100\n",
      "28/28 - 0s - loss: 28.0028\n",
      "Epoch 69/100\n",
      "28/28 - 0s - loss: 24.9342\n",
      "Epoch 70/100\n",
      "28/28 - 0s - loss: 29.8894\n",
      "Epoch 71/100\n",
      "28/28 - 0s - loss: 23.4435\n",
      "Epoch 72/100\n",
      "28/28 - 0s - loss: 24.6319\n",
      "Epoch 73/100\n",
      "28/28 - 0s - loss: 23.2758\n",
      "Epoch 74/100\n",
      "28/28 - 0s - loss: 23.4442\n",
      "Epoch 75/100\n",
      "28/28 - 0s - loss: 23.7406\n",
      "Epoch 76/100\n",
      "28/28 - 0s - loss: 30.4657\n",
      "Epoch 77/100\n",
      "28/28 - 0s - loss: 28.6361\n",
      "Epoch 78/100\n",
      "28/28 - 0s - loss: 27.3059\n",
      "Epoch 79/100\n",
      "28/28 - 0s - loss: 26.4592\n",
      "Epoch 80/100\n",
      "28/28 - 0s - loss: 23.2007\n",
      "Epoch 81/100\n",
      "28/28 - 0s - loss: 22.4496\n",
      "Epoch 82/100\n",
      "28/28 - 0s - loss: 22.6161\n",
      "Epoch 83/100\n",
      "28/28 - 0s - loss: 26.0150\n",
      "Epoch 84/100\n",
      "28/28 - 0s - loss: 27.1021\n",
      "Epoch 85/100\n",
      "28/28 - 0s - loss: 23.5369\n",
      "Epoch 86/100\n",
      "28/28 - 0s - loss: 22.9375\n",
      "Epoch 87/100\n",
      "28/28 - 0s - loss: 26.5779\n",
      "Epoch 88/100\n",
      "28/28 - 0s - loss: 24.7288\n",
      "Epoch 89/100\n",
      "28/28 - 0s - loss: 21.6391\n",
      "Epoch 90/100\n",
      "28/28 - 0s - loss: 21.0204\n",
      "Epoch 91/100\n",
      "28/28 - 0s - loss: 23.7370\n",
      "Epoch 92/100\n",
      "28/28 - 0s - loss: 23.9288\n",
      "Epoch 93/100\n",
      "28/28 - 0s - loss: 21.5933\n",
      "Epoch 94/100\n",
      "28/28 - 0s - loss: 24.8616\n",
      "Epoch 95/100\n",
      "28/28 - 0s - loss: 22.0490\n",
      "Epoch 96/100\n",
      "28/28 - 0s - loss: 20.7645\n",
      "Epoch 97/100\n",
      "28/28 - 0s - loss: 20.5324\n",
      "Epoch 98/100\n",
      "28/28 - 0s - loss: 21.8238\n",
      "Epoch 99/100\n",
      "28/28 - 0s - loss: 19.4916\n",
      "Epoch 100/100\n",
      "28/28 - 0s - loss: 22.5255\n"
     ]
    },
    {
     "data": {
      "text/plain": [
       "<tensorflow.python.keras.callbacks.History at 0x209802b6888>"
      ]
     },
     "execution_count": 10,
     "metadata": {},
     "output_type": "execute_result"
    }
   ],
   "source": [
    "model.fit(dataset,epochs=100,verbose=2)"
   ]
  },
  {
   "cell_type": "code",
   "execution_count": 11,
   "metadata": {},
   "outputs": [
    {
     "data": {
      "image/png": "[encoded data removed]",
      "text/plain": [
       "<Figure size 720x432 with 1 Axes>"
      ]
     },
     "metadata": {
      "needs_background": "light"
     },
     "output_type": "display_data"
    }
   ],
   "source": [
    "forecast = []\n",
    "\n",
    "for time in range(len(close_price) - window_size):\n",
    "    forecast.append(model.predict(close_price[time:time+window_size][np.newaxis]))\n",
    "\n",
    "forecast = forecast[split_time-window_size:]\n",
    "results  = np.array(forecast)[:,0,0]\n",
    "\n",
    "plt.figure(figsize=(10,6))\n",
    "\n",
    "plt.plot(price_valid)\n",
    "plt.plot(results)\n",
    "plt.grid()"
   ]
  },
  {
   "cell_type": "code",
   "execution_count": 17,
   "metadata": {},
   "outputs": [
    {
     "name": "stdout",
     "output_type": "stream",
     "text": [
      "3.3492553\n"
     ]
    }
   ],
   "source": [
    "print(tf.keras.metrics.mean_absolute_error(price_valid,results).numpy())"
   ]
  },
  {
   "cell_type": "code",
   "execution_count": 18,
   "metadata": {
    "scrolled": true
   },
   "outputs": [
    {
     "name": "stdout",
     "output_type": "stream",
     "text": [
      "20.328478\n"
     ]
    }
   ],
   "source": [
    "print(tf.keras.metrics.mean_squared_error(price_valid,results).numpy())"
   ]
  },
  {
   "cell_type": "markdown",
   "metadata": {},
   "source": [
    "### Multi layer Network"
   ]
  },
  {
   "cell_type": "code",
   "execution_count": 9,
   "metadata": {},
   "outputs": [],
   "source": [
    "model = tf.keras.Sequential([\n",
    "    tf.keras.layers.Dense(10,input_shape=[window_size],activation='relu'),\n",
    "    tf.keras.layers.Dense(10,activation='relu'),\n",
    "    tf.keras.layers.Dense(1)\n",
    "])"
   ]
  },
  {
   "cell_type": "code",
   "execution_count": 10,
   "metadata": {},
   "outputs": [],
   "source": [
    "lr_sch = tf.keras.callbacks.LearningRateScheduler(\n",
    "    lambda epoch : 1e-8 * 10**(epoch/20))\n",
    "\n",
    "optimizer = tf.keras.optimizers.SGD(lr=1e-8,momentum=0.9)\n",
    "model.compile(loss='mse',optimizer=optimizer)\n",
    "history = model.fit(dataset,epochs = 100,callbacks=[lr_sch],verbose=0)"
   ]
  },
  {
   "cell_type": "code",
   "execution_count": 12,
   "metadata": {},
   "outputs": [
    {
     "data": {
      "text/plain": [
       "(1e-08, 0.001, 0.0, 300.0)"
      ]
     },
     "execution_count": 12,
     "metadata": {},
     "output_type": "execute_result"
    },
    {
     "data": {
      "image/png": "[encoded data removed]",
      "text/plain": [
       "<Figure size 432x288 with 1 Axes>"
      ]
     },
     "metadata": {
      "needs_background": "light"
     },
     "output_type": "display_data"
    }
   ],
   "source": [
    "lrs = 1e-8 * (10**(np.arange(100)/20))\n",
    "plt.semilogx(lrs,history.history['loss'])\n",
    "plt.axis([1e-8,1e-3,0,300])"
   ]
  },
  {
   "cell_type": "code",
   "execution_count": 14,
   "metadata": {},
   "outputs": [
    {
     "data": {
      "text/plain": [
       "35"
      ]
     },
     "execution_count": 14,
     "metadata": {},
     "output_type": "execute_result"
    }
   ],
   "source": [
    "history.history['loss'].index(min(history.history['loss']))"
   ]
  },
  {
   "cell_type": "code",
   "execution_count": 15,
   "metadata": {},
   "outputs": [
    {
     "data": {
      "text/plain": [
       "5.623413251903491e-07"
      ]
     },
     "execution_count": 15,
     "metadata": {},
     "output_type": "execute_result"
    }
   ],
   "source": [
    "lrs[35]"
   ]
  },
  {
   "cell_type": "code",
   "execution_count": 10,
   "metadata": {},
   "outputs": [],
   "source": [
    "model = tf.keras.Sequential([\n",
    "    tf.keras.layers.Dense(10,input_shape=[window_size],activation='relu'),\n",
    "    tf.keras.layers.Dense(10,activation='relu'),\n",
    "    tf.keras.layers.Dense(1)\n",
    "])"
   ]
  },
  {
   "cell_type": "code",
   "execution_count": 11,
   "metadata": {},
   "outputs": [
    {
     "name": "stdout",
     "output_type": "stream",
     "text": [
      "Epoch 1/100\n",
      "28/28 - 0s - loss: 14947.5537\n",
      "Epoch 2/100\n",
      "28/28 - 0s - loss: 320.3186\n",
      "Epoch 3/100\n",
      "28/28 - 0s - loss: 75.9431\n",
      "Epoch 4/100\n",
      "28/28 - 0s - loss: 58.3583\n",
      "Epoch 5/100\n",
      "28/28 - 0s - loss: 54.9096\n",
      "Epoch 6/100\n",
      "28/28 - 0s - loss: 53.7701\n",
      "Epoch 7/100\n",
      "28/28 - 0s - loss: 52.5885\n",
      "Epoch 8/100\n",
      "28/28 - 0s - loss: 57.4169\n",
      "Epoch 9/100\n",
      "28/28 - 0s - loss: 50.2000\n",
      "Epoch 10/100\n",
      "28/28 - 0s - loss: 53.4286\n",
      "Epoch 11/100\n",
      "28/28 - 0s - loss: 51.5596\n",
      "Epoch 12/100\n",
      "28/28 - 0s - loss: 48.8022\n",
      "Epoch 13/100\n",
      "28/28 - 0s - loss: 48.6080\n",
      "Epoch 14/100\n",
      "28/28 - 0s - loss: 44.9553\n",
      "Epoch 15/100\n",
      "28/28 - 0s - loss: 51.9556\n",
      "Epoch 16/100\n",
      "28/28 - 0s - loss: 51.5488\n",
      "Epoch 17/100\n",
      "28/28 - 0s - loss: 45.8217\n",
      "Epoch 18/100\n",
      "28/28 - 0s - loss: 44.9789\n",
      "Epoch 19/100\n",
      "28/28 - 0s - loss: 41.7931\n",
      "Epoch 20/100\n",
      "28/28 - 0s - loss: 41.5721\n",
      "Epoch 21/100\n",
      "28/28 - 0s - loss: 40.6126\n",
      "Epoch 22/100\n",
      "28/28 - 0s - loss: 38.5029\n",
      "Epoch 23/100\n",
      "28/28 - 0s - loss: 38.6386\n",
      "Epoch 24/100\n",
      "28/28 - 0s - loss: 39.6608\n",
      "Epoch 25/100\n",
      "28/28 - 0s - loss: 45.2567\n",
      "Epoch 26/100\n",
      "28/28 - 0s - loss: 36.9434\n",
      "Epoch 27/100\n",
      "28/28 - 0s - loss: 35.0804\n",
      "Epoch 28/100\n",
      "28/28 - 0s - loss: 35.6182\n",
      "Epoch 29/100\n",
      "28/28 - 0s - loss: 41.5942\n",
      "Epoch 30/100\n",
      "28/28 - 0s - loss: 37.2731\n",
      "Epoch 31/100\n",
      "28/28 - 0s - loss: 32.3971\n",
      "Epoch 32/100\n",
      "28/28 - 0s - loss: 37.5778\n",
      "Epoch 33/100\n",
      "28/28 - 0s - loss: 33.9307\n",
      "Epoch 34/100\n",
      "28/28 - 0s - loss: 35.4242\n",
      "Epoch 35/100\n",
      "28/28 - 0s - loss: 37.7986\n",
      "Epoch 36/100\n",
      "28/28 - 0s - loss: 33.7736\n",
      "Epoch 37/100\n",
      "28/28 - 0s - loss: 36.1260\n",
      "Epoch 38/100\n",
      "28/28 - 0s - loss: 35.1600\n",
      "Epoch 39/100\n",
      "28/28 - 0s - loss: 31.8454\n",
      "Epoch 40/100\n",
      "28/28 - 0s - loss: 33.0055\n",
      "Epoch 41/100\n",
      "28/28 - 0s - loss: 31.3900\n",
      "Epoch 42/100\n",
      "28/28 - 0s - loss: 32.6596\n",
      "Epoch 43/100\n",
      "28/28 - 0s - loss: 33.2812\n",
      "Epoch 44/100\n",
      "28/28 - 0s - loss: 30.6587\n",
      "Epoch 45/100\n",
      "28/28 - 0s - loss: 43.0708\n",
      "Epoch 46/100\n",
      "28/28 - 0s - loss: 36.3300\n",
      "Epoch 47/100\n",
      "28/28 - 0s - loss: 34.4416\n",
      "Epoch 48/100\n",
      "28/28 - 0s - loss: 34.2182\n",
      "Epoch 49/100\n",
      "28/28 - 0s - loss: 30.6104\n",
      "Epoch 50/100\n",
      "28/28 - 0s - loss: 32.3256\n",
      "Epoch 51/100\n",
      "28/28 - 0s - loss: 34.4772\n",
      "Epoch 52/100\n",
      "28/28 - 0s - loss: 31.5264\n",
      "Epoch 53/100\n",
      "28/28 - 0s - loss: 32.1553\n",
      "Epoch 54/100\n",
      "28/28 - 0s - loss: 30.4972\n",
      "Epoch 55/100\n",
      "28/28 - 0s - loss: 34.2611\n",
      "Epoch 56/100\n",
      "28/28 - 0s - loss: 31.4600\n",
      "Epoch 57/100\n",
      "28/28 - 0s - loss: 30.1761\n",
      "Epoch 58/100\n",
      "28/28 - 0s - loss: 29.2313\n",
      "Epoch 59/100\n",
      "28/28 - 0s - loss: 30.3531\n",
      "Epoch 60/100\n",
      "28/28 - 0s - loss: 28.1015\n",
      "Epoch 61/100\n",
      "28/28 - 0s - loss: 31.2214\n",
      "Epoch 62/100\n",
      "28/28 - 0s - loss: 38.0810\n",
      "Epoch 63/100\n",
      "28/28 - 0s - loss: 33.8199\n",
      "Epoch 64/100\n",
      "28/28 - 0s - loss: 30.9280\n",
      "Epoch 65/100\n",
      "28/28 - 0s - loss: 29.3478\n",
      "Epoch 66/100\n",
      "28/28 - 0s - loss: 31.8884\n",
      "Epoch 67/100\n",
      "28/28 - 0s - loss: 28.6534\n",
      "Epoch 68/100\n",
      "28/28 - 0s - loss: 31.3067\n",
      "Epoch 69/100\n",
      "28/28 - 0s - loss: 28.9003\n",
      "Epoch 70/100\n",
      "28/28 - 0s - loss: 32.6370\n",
      "Epoch 71/100\n",
      "28/28 - 0s - loss: 30.0926\n",
      "Epoch 72/100\n",
      "28/28 - 0s - loss: 31.4333\n",
      "Epoch 73/100\n",
      "28/28 - 0s - loss: 29.7115\n",
      "Epoch 74/100\n",
      "28/28 - 0s - loss: 30.8190\n",
      "Epoch 75/100\n",
      "28/28 - 0s - loss: 30.5926\n",
      "Epoch 76/100\n",
      "28/28 - 0s - loss: 32.2089\n",
      "Epoch 77/100\n",
      "28/28 - 0s - loss: 30.1651\n",
      "Epoch 78/100\n",
      "28/28 - 0s - loss: 28.2211\n",
      "Epoch 79/100\n",
      "28/28 - 0s - loss: 27.5435\n",
      "Epoch 80/100\n",
      "28/28 - 0s - loss: 28.1125\n",
      "Epoch 81/100\n",
      "28/28 - 0s - loss: 28.3167\n",
      "Epoch 82/100\n",
      "28/28 - 0s - loss: 28.7297\n",
      "Epoch 83/100\n",
      "28/28 - 0s - loss: 33.1592\n",
      "Epoch 84/100\n",
      "28/28 - 0s - loss: 29.0805\n",
      "Epoch 85/100\n",
      "28/28 - 0s - loss: 33.0692\n",
      "Epoch 86/100\n",
      "28/28 - 0s - loss: 33.2558\n",
      "Epoch 87/100\n",
      "28/28 - 0s - loss: 29.3903\n",
      "Epoch 88/100\n",
      "28/28 - 0s - loss: 33.1082\n",
      "Epoch 89/100\n",
      "28/28 - 0s - loss: 29.1724\n",
      "Epoch 90/100\n",
      "28/28 - 0s - loss: 33.7718\n",
      "Epoch 91/100\n",
      "28/28 - 0s - loss: 29.9028\n",
      "Epoch 92/100\n",
      "28/28 - 0s - loss: 29.5871\n",
      "Epoch 93/100\n",
      "28/28 - 0s - loss: 30.0025\n",
      "Epoch 94/100\n",
      "28/28 - 0s - loss: 29.7830\n",
      "Epoch 95/100\n",
      "28/28 - 0s - loss: 26.8580\n",
      "Epoch 96/100\n",
      "28/28 - 0s - loss: 27.4575\n",
      "Epoch 97/100\n",
      "28/28 - 0s - loss: 39.5180\n",
      "Epoch 98/100\n",
      "28/28 - 0s - loss: 31.8379\n",
      "Epoch 99/100\n",
      "28/28 - 0s - loss: 28.5013\n",
      "Epoch 100/100\n",
      "28/28 - 0s - loss: 27.2277\n"
     ]
    }
   ],
   "source": [
    "optimizer = tf.keras.optimizers.SGD(lr=5.623413251903491e-07,momentum=0.9)\n",
    "model.compile(loss='mse',optimizer=optimizer)\n",
    "history = model.fit(dataset,epochs = 100,verbose=2)"
   ]
  },
  {
   "cell_type": "code",
   "execution_count": 12,
   "metadata": {},
   "outputs": [
    {
     "data": {
      "image/png": "[encoded data removed]",
      "text/plain": [
       "<Figure size 432x288 with 1 Axes>"
      ]
     },
     "metadata": {
      "needs_background": "light"
     },
     "output_type": "display_data"
    }
   ],
   "source": [
    "plt.plot(history.history['loss'])\n",
    "plt.grid()"
   ]
  },
  {
   "cell_type": "code",
   "execution_count": 14,
   "metadata": {},
   "outputs": [
    {
     "data": {
      "image/png": "[encoded data removed]",
      "text/plain": [
       "<Figure size 432x288 with 1 Axes>"
      ]
     },
     "metadata": {
      "needs_background": "light"
     },
     "output_type": "display_data"
    }
   ],
   "source": [
    "forecast = []\n",
    "\n",
    "for time in range(len(close_price) - window_size):\n",
    "    forecast.append(model.predict(close_price[time:time+window_size][np.newaxis]))\n",
    "    \n",
    "forecast = forecast[split_time-window_size : ]\n",
    "results = np.array(forecast)[:,0,0]\n",
    "\n",
    "plt.plot(price_valid)\n",
    "plt.plot(results)\n",
    "plt.grid()"
   ]
  },
  {
   "cell_type": "code",
   "execution_count": 15,
   "metadata": {},
   "outputs": [
    {
     "data": {
      "text/plain": [
       "3.7330115"
      ]
     },
     "execution_count": 15,
     "metadata": {},
     "output_type": "execute_result"
    }
   ],
   "source": [
    "tf.keras.metrics.mean_absolute_error(price_valid,results).numpy()"
   ]
  },
  {
   "cell_type": "code",
   "execution_count": null,
   "metadata": {},
   "outputs": [],
   "source": []
  },
  {
   "cell_type": "code",
   "execution_count": null,
   "metadata": {},
   "outputs": [],
   "source": []
  },
  {
   "cell_type": "code",
   "execution_count": null,
   "metadata": {},
   "outputs": [],
   "source": []
  },
  {
   "cell_type": "code",
   "execution_count": 11,
   "metadata": {},
   "outputs": [],
   "source": [
    "cuda.close()"
   ]
  }
 ],
 "metadata": {
  "kernelspec": {
   "display_name": "Python 3",
   "language": "python",
   "name": "python3"
  },
  "language_info": {
   "codemirror_mode": {
    "name": "ipython",
    "version": 3
   },
   "file_extension": ".py",
   "mimetype": "text/x-python",
   "name": "python",
   "nbconvert_exporter": "python",
   "pygments_lexer": "ipython3",
   "version": "3.7.7"
  }
 },
 "nbformat": 4,
 "nbformat_minor": 4
}
