{
 "cells": [
  {
   "cell_type": "code",
   "execution_count": 1,
   "metadata": {},
   "outputs": [],
   "source": [
    "import tensorflow as tf\n",
    "import matplotlib.pyplot as plt\n",
    "import numpy as np\n",
    "import random\n",
    "from numba import cuda\n",
    "\n",
    "%matplotlib inline\n",
    "\n",
    "tf.keras.backend.clear_session()"
   ]
  },
  {
   "cell_type": "code",
   "execution_count": 7,
   "metadata": {},
   "outputs": [],
   "source": [
    "data_dir = '../data/rock-paper-scissors/'"
   ]
  },
  {
   "cell_type": "code",
   "execution_count": 2,
   "metadata": {},
   "outputs": [],
   "source": [
    "import os\n",
    "\n",
    "if not os.path.exists('../data/rock-paper-scissors/Training'):\n",
    "    os.mkdir('../data/rock-paper-scissors/Training')\n",
    "if not os.path.exists('../data/rock-paper-scissors/Validation'):\n",
    "    os.mkdir('../data/rock-paper-scissors/Validation')"
   ]
  },
  {
   "cell_type": "code",
   "execution_count": 3,
   "metadata": {},
   "outputs": [],
   "source": [
    "from shutil import copyfile\n",
    "def split_images(SRC,SRC_TRAIN,SRC_VALID,SPLIT):\n",
    "    images = os.listdir(SRC)\n",
    "    \n",
    "    train_split = int(len(images) * SPLIT)\n",
    "    valid_split = int( len(images) - train_split )\n",
    "    \n",
    "    train_cnt = 0\n",
    "    valid_cnt = 0\n",
    "    \n",
    "    for cnt in range(train_split):\n",
    "        choice = random.choice(images)\n",
    "        copyfile(SRC+choice,SRC_TRAIN+choice)\n",
    "        images.remove(choice)\n",
    "        train_cnt += 1\n",
    "    \n",
    "    for cnt in range(valid_split):\n",
    "        choice = random.choice(images)\n",
    "        copyfile(SRC+choice,SRC_VALID+choice)\n",
    "        images.remove(choice)\n",
    "        valid_cnt += 1\n",
    "        \n",
    "    print(\"Train Count : \"+str(train_cnt))\n",
    "    print(\"Valid Count : \"+str(valid_cnt))\n",
    "    "
   ]
  },
  {
   "cell_type": "code",
   "execution_count": 7,
   "metadata": {},
   "outputs": [],
   "source": [
    "if not os.path.exists('../data/rock-paper-scissors/Training/rock/'):\n",
    "    os.mkdir('../data/rock-paper-scissors/Training/rock/')\n",
    "if not os.path.exists('../data/rock-paper-scissors/Training/paper/'):\n",
    "    os.mkdir('../data/rock-paper-scissors/Training/paper/')\n",
    "if not os.path.exists('../data/rock-paper-scissors/Training/scissors/'):\n",
    "    os.mkdir('../data/rock-paper-scissors/Training/scissors/')\n",
    "if not os.path.exists('../data/rock-paper-scissors/Validation/rock/'):\n",
    "    os.mkdir('../data/rock-paper-scissors/Validation/rock/')\n",
    "if not os.path.exists('../data/rock-paper-scissors/Validation/paper/'):\n",
    "    os.mkdir('../data/rock-paper-scissors/Validation/paper/')\n",
    "if not os.path.exists('../data/rock-paper-scissors/Validation/scissors/'):\n",
    "    os.mkdir('../data/rock-paper-scissors/Validation/scissors/')"
   ]
  },
  {
   "cell_type": "code",
   "execution_count": 8,
   "metadata": {},
   "outputs": [],
   "source": [
    "train_dir = '../data/rock-paper-scissors/Training/'\n",
    "valid_dir = '../data/rock-paper-scissors/Validation/'\n",
    "\n",
    "rocks_dir = '../data/rock-paper-scissors/rock/'\n",
    "paper_dir = '../data/rock-paper-scissors/paper/'\n",
    "scissors_dir = '../data/rock-paper-scissors/scissors/'\n",
    "\n",
    "rock_train = '../data/rock-paper-scissors/Training/rock/'\n",
    "paper_train = '../data/rock-paper-scissors/Training/paper/'\n",
    "scissors_train = '../data/rock-paper-scissors/Training/scissors/'\n",
    "\n",
    "rock_valid = '../data/rock-paper-scissors/Validation/rock/'\n",
    "paper_valid = '../data/rock-paper-scissors/Validation/paper/'\n",
    "scissors_valid = '../data/rock-paper-scissors/Validation/scissors/'"
   ]
  },
  {
   "cell_type": "code",
   "execution_count": 9,
   "metadata": {},
   "outputs": [
    {
     "name": "stdout",
     "output_type": "stream",
     "text": [
      "Train Count : 508\n",
      "Valid Count : 218\n",
      "Train Count : 498\n",
      "Valid Count : 214\n",
      "Train Count : 525\n",
      "Valid Count : 225\n"
     ]
    }
   ],
   "source": [
    "split_images(rocks_dir,rock_train,rock_valid,0.7)\n",
    "split_images(paper_dir,paper_train,paper_valid,0.7)\n",
    "split_images(scissors_dir,scissors_train,scissors_valid,0.7)"
   ]
  },
  {
   "cell_type": "code",
   "execution_count": 10,
   "metadata": {},
   "outputs": [],
   "source": [
    "from tensorflow.keras.preprocessing.image import ImageDataGenerator"
   ]
  },
  {
   "cell_type": "code",
   "execution_count": 11,
   "metadata": {},
   "outputs": [],
   "source": [
    "train_datagen = ImageDataGenerator(rescale=1/255.0,\n",
    "                                  horizontal_flip=True,\n",
    "                                  vertical_flip=True,\n",
    "                                  rotation_range=90,\n",
    "                                  shear_range=0.2,\n",
    "                                  fill_mode='nearest',\n",
    "                                  width_shift_range=0.2)\n",
    "\n",
    "valid_datagen = ImageDataGenerator(rescale=1/255.0)"
   ]
  },
  {
   "cell_type": "code",
   "execution_count": 12,
   "metadata": {},
   "outputs": [
    {
     "name": "stdout",
     "output_type": "stream",
     "text": [
      "Found 1531 images belonging to 3 classes.\n",
      "Found 657 images belonging to 3 classes.\n"
     ]
    }
   ],
   "source": [
    "batch_size = 16\n",
    "train_generator = train_datagen.flow_from_directory(train_dir,\n",
    "                                                   target_size = (150,150),\n",
    "                                                   class_mode = 'categorical',\n",
    "                                                   batch_size = batch_size)\n",
    "\n",
    "valid_generator = valid_datagen.flow_from_directory(valid_dir,\n",
    "                                                   target_size=(150,150),\n",
    "                                                   class_mode = 'categorical',\n",
    "                                                   batch_size = batch_size)"
   ]
  },
  {
   "cell_type": "code",
   "execution_count": 13,
   "metadata": {},
   "outputs": [
    {
     "name": "stdout",
     "output_type": "stream",
     "text": [
      "Model: \"sequential\"\n",
      "_________________________________________________________________\n",
      "Layer (type)                 Output Shape              Param #   \n",
      "=================================================================\n",
      "conv2d (Conv2D)              (None, 149, 149, 16)      208       \n",
      "_________________________________________________________________\n",
      "conv2d_1 (Conv2D)            (None, 147, 147, 16)      2320      \n",
      "_________________________________________________________________\n",
      "conv2d_2 (Conv2D)            (None, 145, 145, 16)      2320      \n",
      "_________________________________________________________________\n",
      "max_pooling2d (MaxPooling2D) (None, 72, 72, 16)        0         \n",
      "_________________________________________________________________\n",
      "batch_normalization (BatchNo (None, 72, 72, 16)        64        \n",
      "_________________________________________________________________\n",
      "conv2d_3 (Conv2D)            (None, 71, 71, 32)        2080      \n",
      "_________________________________________________________________\n",
      "conv2d_4 (Conv2D)            (None, 69, 69, 32)        9248      \n",
      "_________________________________________________________________\n",
      "conv2d_5 (Conv2D)            (None, 67, 67, 32)        9248      \n",
      "_________________________________________________________________\n",
      "max_pooling2d_1 (MaxPooling2 (None, 33, 33, 32)        0         \n",
      "_________________________________________________________________\n",
      "batch_normalization_1 (Batch (None, 33, 33, 32)        128       \n",
      "_________________________________________________________________\n",
      "conv2d_6 (Conv2D)            (None, 32, 32, 64)        8256      \n",
      "_________________________________________________________________\n",
      "conv2d_7 (Conv2D)            (None, 30, 30, 64)        36928     \n",
      "_________________________________________________________________\n",
      "conv2d_8 (Conv2D)            (None, 28, 28, 64)        36928     \n",
      "_________________________________________________________________\n",
      "max_pooling2d_2 (MaxPooling2 (None, 14, 14, 64)        0         \n",
      "_________________________________________________________________\n",
      "batch_normalization_2 (Batch (None, 14, 14, 64)        256       \n",
      "_________________________________________________________________\n",
      "conv2d_9 (Conv2D)            (None, 12, 12, 64)        36928     \n",
      "_________________________________________________________________\n",
      "max_pooling2d_3 (MaxPooling2 (None, 6, 6, 64)          0         \n",
      "_________________________________________________________________\n",
      "flatten (Flatten)            (None, 2304)              0         \n",
      "_________________________________________________________________\n",
      "dense (Dense)                (None, 1024)              2360320   \n",
      "_________________________________________________________________\n",
      "dropout (Dropout)            (None, 1024)              0         \n",
      "_________________________________________________________________\n",
      "dense_1 (Dense)              (None, 3)                 3075      \n",
      "=================================================================\n",
      "Total params: 2,508,307\n",
      "Trainable params: 2,508,083\n",
      "Non-trainable params: 224\n",
      "_________________________________________________________________\n"
     ]
    }
   ],
   "source": [
    "model = tf.keras.Sequential([\n",
    "    tf.keras.layers.Conv2D(16,(2,2),activation='relu',input_shape=(150,150,3)),  #149x149\n",
    "    tf.keras.layers.Conv2D(16,(3,3),activation='relu'),                          #147x147\n",
    "    tf.keras.layers.Conv2D(16,(3,3),activation='relu'),                          #145x145\n",
    "    tf.keras.layers.MaxPooling2D(2,2),                                           #72x72\n",
    "    \n",
    "    tf.keras.layers.BatchNormalization(),\n",
    "    tf.keras.layers.Conv2D(32,(2,2),activation='relu'),                          #71x71\n",
    "    tf.keras.layers.Conv2D(32,(3,3),activation='relu'),                          #69x69\n",
    "    tf.keras.layers.Conv2D(32,(3,3),activation='relu'),                          #67x67\n",
    "    tf.keras.layers.MaxPooling2D(2,2),                                           #33x33\n",
    "    \n",
    "    tf.keras.layers.BatchNormalization(),\n",
    "    tf.keras.layers.Conv2D(64,(2,2),activation='relu'),                          #32x32\n",
    "    tf.keras.layers.Conv2D(64,(3,3),activation='relu'),                          #30x30\n",
    "    tf.keras.layers.Conv2D(64,(3,3),activation='relu'),                          #28x28\n",
    "    tf.keras.layers.MaxPooling2D(2,2),                                           #14x14\n",
    "    \n",
    "    tf.keras.layers.BatchNormalization(),\n",
    "    tf.keras.layers.Conv2D(64,(3,3),activation='relu'),                          #12x12\n",
    "    tf.keras.layers.MaxPooling2D(2,2),                                           #6x6\n",
    "    \n",
    "    tf.keras.layers.Flatten(),\n",
    "    tf.keras.layers.Dense(1024,activation='relu'),\n",
    "    tf.keras.layers.Dropout(0.2),\n",
    "    tf.keras.layers.Dense(3,activation='softmax')\n",
    "    \n",
    "])\n",
    "model.summary()"
   ]
  },
  {
   "cell_type": "code",
   "execution_count": 14,
   "metadata": {},
   "outputs": [],
   "source": [
    "model.compile(loss='categorical_crossentropy',optimizer = 'adam',metrics = ['acc'])"
   ]
  },
  {
   "cell_type": "code",
   "execution_count": 15,
   "metadata": {},
   "outputs": [],
   "source": [
    "class MyCallback(tf.keras.callbacks.Callback):\n",
    "    def on_epoch_end(self,epochs,logs):\n",
    "        if logs.get('val_acc') > 0.97:\n",
    "            print(\"Reached 97% Validation Accuracy so cancelling training!\")\n",
    "            self.model.stop_training =True"
   ]
  },
  {
   "cell_type": "code",
   "execution_count": 16,
   "metadata": {},
   "outputs": [],
   "source": [
    "callbacks = MyCallback()"
   ]
  },
  {
   "cell_type": "code",
   "execution_count": 18,
   "metadata": {},
   "outputs": [
    {
     "name": "stdout",
     "output_type": "stream",
     "text": [
      "Epoch 1/30\n",
      "95/95 [==============================] - 18s 185ms/step - loss: 0.5365 - acc: 0.8040 - val_loss: 2.0544 - val_acc: 0.3323\n",
      "Epoch 2/30\n",
      "95/95 [==============================] - 22s 227ms/step - loss: 0.3799 - acc: 0.8634 - val_loss: 1.4077 - val_acc: 0.3338\n",
      "Epoch 3/30\n",
      "95/95 [==============================] - 34s 361ms/step - loss: 0.2744 - acc: 0.9023 - val_loss: 1.2370 - val_acc: 0.5000\n",
      "Epoch 4/30\n",
      "95/95 [==============================] - 37s 386ms/step - loss: 0.2693 - acc: 0.9083 - val_loss: 0.2026 - val_acc: 0.9192\n",
      "Epoch 5/30\n",
      "95/95 [==============================] - 41s 428ms/step - loss: 0.1806 - acc: 0.9538 - val_loss: 0.3116 - val_acc: 0.8841\n",
      "Epoch 6/30\n",
      "95/95 [==============================] - 41s 429ms/step - loss: 0.1361 - acc: 0.9584 - val_loss: 0.6492 - val_acc: 0.8034\n",
      "Epoch 7/30\n",
      "95/95 [==============================] - ETA: 0s - loss: 0.1356 - acc: 0.9578Reached 97% Validation Accuracy so cancelling training!\n",
      "95/95 [==============================] - 41s 428ms/step - loss: 0.1356 - acc: 0.9578 - val_loss: 0.0466 - val_acc: 0.9802\n"
     ]
    }
   ],
   "source": [
    "history = model.fit_generator(train_generator,\n",
    "                              validation_data=valid_generator,\n",
    "                              steps_per_epoch=int(1531/batch_size),\n",
    "                              epochs = 30,\n",
    "                             callbacks=[callbacks],\n",
    "                             validation_steps=int(657/batch_size))"
   ]
  },
  {
   "cell_type": "code",
   "execution_count": 19,
   "metadata": {},
   "outputs": [
    {
     "name": "stdout",
     "output_type": "stream",
     "text": [
      "WARNING:tensorflow:From <ipython-input-19-8c8a445a7c3e>:1: Model.evaluate_generator (from tensorflow.python.keras.engine.training) is deprecated and will be removed in a future version.\n",
      "Instructions for updating:\n",
      "Please use Model.evaluate, which supports generators.\n"
     ]
    },
    {
     "data": {
      "text/plain": [
       "[0.04661061242222786, 0.980182945728302]"
      ]
     },
     "execution_count": 19,
     "metadata": {},
     "output_type": "execute_result"
    }
   ],
   "source": [
    "model.evaluate_generator(valid_generator,steps=int(657/batch_size))"
   ]
  },
  {
   "cell_type": "code",
   "execution_count": 21,
   "metadata": {},
   "outputs": [
    {
     "data": {
      "text/plain": [
       "Text(0.5, 1.0, 'Training vs Validation Accuracy')"
      ]
     },
     "execution_count": 21,
     "metadata": {},
     "output_type": "execute_result"
    },
    {
     "data": {
      "image/png": "[encoded data removed]",
      "text/plain": [
       "<Figure size 432x288 with 1 Axes>"
      ]
     },
     "metadata": {
      "needs_background": "light"
     },
     "output_type": "display_data"
    },
    {
     "data": {
      "image/png": "[encoded data removed]",
      "text/plain": [
       "<Figure size 432x288 with 1 Axes>"
      ]
     },
     "metadata": {
      "needs_background": "light"
     },
     "output_type": "display_data"
    }
   ],
   "source": [
    "train_loss = history.history['loss']\n",
    "valid_loss = history.history['val_loss']\n",
    "\n",
    "train_acc = history.history['acc']\n",
    "valid_acc = history.history['val_acc']\n",
    "\n",
    "plt.figure()\n",
    "plt.plot(train_loss)\n",
    "plt.plot(valid_loss)\n",
    "plt.xlabel('Epochs')\n",
    "plt.ylabel('Loss')\n",
    "plt.legend(['Training Loss','Validation Loss'])\n",
    "plt.title('Training vs Validation Loss')\n",
    "\n",
    "plt.figure()\n",
    "plt.plot(train_acc)\n",
    "plt.plot(valid_acc)\n",
    "plt.xlabel('Epochs')\n",
    "plt.ylabel('Accuracy')\n",
    "plt.legend(['Training Accuracy','Validation Accuracy'])\n",
    "plt.title('Training vs Validation Accuracy')\n",
    "\n"
   ]
  },
  {
   "cell_type": "code",
   "execution_count": 34,
   "metadata": {},
   "outputs": [
    {
     "name": "stdout",
     "output_type": "stream",
     "text": [
      "{'paper': 0, 'rock': 1, 'scissors': 2}\n"
     ]
    }
   ],
   "source": [
    "label_map = (train_generator.class_indices)\n",
    "print(label_map)"
   ]
  },
  {
   "cell_type": "code",
   "execution_count": null,
   "metadata": {},
   "outputs": [],
   "source": [
    "\n",
    "    "
   ]
  },
  {
   "cell_type": "code",
   "execution_count": null,
   "metadata": {},
   "outputs": [],
   "source": []
  },
  {
   "cell_type": "code",
   "execution_count": 41,
   "metadata": {},
   "outputs": [],
   "source": [
    "cuda.close()"
   ]
  }
 ],
 "metadata": {
  "kernelspec": {
   "display_name": "Python 3",
   "language": "python",
   "name": "python3"
  },
  "language_info": {
   "codemirror_mode": {
    "name": "ipython",
    "version": 3
   },
   "file_extension": ".py",
   "mimetype": "text/x-python",
   "name": "python",
   "nbconvert_exporter": "python",
   "pygments_lexer": "ipython3",
   "version": "3.7.7"
  }
 },
 "nbformat": 4,
 "nbformat_minor": 4
}
