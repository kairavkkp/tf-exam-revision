{
 "cells": [
  {
   "cell_type": "code",
   "execution_count": 1,
   "metadata": {},
   "outputs": [
    {
     "name": "stdout",
     "output_type": "stream",
     "text": [
      "2.2.0\n"
     ]
    }
   ],
   "source": [
    "import tensorflow as tf\n",
    "import tensorflow_datasets as tfds\n",
    "import numpy as np\n",
    "import matplotlib.pyplot as plt\n",
    "%matplotlib inline\n",
    "from numba import cuda\n",
    "import random\n",
    "\n",
    "tf.keras.backend.clear_session()\n",
    "print(tf.__version__)"
   ]
  },
  {
   "cell_type": "code",
   "execution_count": 2,
   "metadata": {},
   "outputs": [],
   "source": [
    "fashion_mnist = tf.keras.datasets.fashion_mnist\n"
   ]
  },
  {
   "cell_type": "code",
   "execution_count": 3,
   "metadata": {},
   "outputs": [],
   "source": [
    "(X_train,y_train), (X_test,y_test) = fashion_mnist.load_data()"
   ]
  },
  {
   "cell_type": "code",
   "execution_count": 4,
   "metadata": {},
   "outputs": [],
   "source": [
    "X_train = np.array(X_train) / 255.0\n",
    "X_test = np.array(X_test) / 255.0\n"
   ]
  },
  {
   "cell_type": "code",
   "execution_count": 5,
   "metadata": {},
   "outputs": [
    {
     "data": {
      "image/png": "[encoded data removed]",
      "text/plain": [
       "<Figure size 432x288 with 1 Axes>"
      ]
     },
     "metadata": {
      "needs_background": "light"
     },
     "output_type": "display_data"
    },
    {
     "data": {
      "image/png": "[encoded data removed]",
      "text/plain": [
       "<Figure size 432x288 with 1 Axes>"
      ]
     },
     "metadata": {
      "needs_background": "light"
     },
     "output_type": "display_data"
    },
    {
     "data": {
      "image/png": "[encoded data removed]",
      "text/plain": [
       "<Figure size 432x288 with 1 Axes>"
      ]
     },
     "metadata": {
      "needs_background": "light"
     },
     "output_type": "display_data"
    },
    {
     "data": {
      "image/png": "[encoded data removed]",
      "text/plain": [
       "<Figure size 432x288 with 1 Axes>"
      ]
     },
     "metadata": {
      "needs_background": "light"
     },
     "output_type": "display_data"
    }
   ],
   "source": [
    "for grid in range(4):\n",
    "    num = random.randint(0,len(X_train))\n",
    "    plt.figure()\n",
    "    plt.imshow(X_train[num])\n",
    "    plt.xlabel(y_train[num])"
   ]
  },
  {
   "cell_type": "code",
   "execution_count": 7,
   "metadata": {},
   "outputs": [],
   "source": [
    "model = tf.keras.Sequential([tf.keras.layers.Flatten(input_shape=(28,28)),\n",
    "                            tf.keras.layers.Dense(512,activation='relu'),\n",
    "                            tf.keras.layers.Dense(10,activation='softmax')])\n"
   ]
  },
  {
   "cell_type": "code",
   "execution_count": 8,
   "metadata": {},
   "outputs": [],
   "source": [
    "model.compile(loss='sparse_categorical_crossentropy',optimizer='adam',metrics = ['acc'])"
   ]
  },
  {
   "cell_type": "code",
   "execution_count": 9,
   "metadata": {},
   "outputs": [],
   "source": [
    "class MyCallback(tf.keras.callbacks.Callback):\n",
    "    def on_epoch_end(self,epoch,logs):\n",
    "        if logs.get('acc')>0.90:\n",
    "            print(\"Reached 90% accuracy so cancelling training!\")\n",
    "            self.model.stop_training = True"
   ]
  },
  {
   "cell_type": "code",
   "execution_count": 10,
   "metadata": {},
   "outputs": [],
   "source": [
    "callbacks = MyCallback()"
   ]
  },
  {
   "cell_type": "code",
   "execution_count": 11,
   "metadata": {},
   "outputs": [
    {
     "name": "stdout",
     "output_type": "stream",
     "text": [
      "Epoch 1/15\n",
      "1875/1875 [==============================] - 52s 28ms/step - loss: 0.4730 - acc: 0.8305 29 - ETA: 21s - loss: 0.52 - - - ETA: 11s - loss: 0.4946 - acc: 0. - ETA: 11s - ETA: 8s - l - ETA: 6s - loss: 0.4833  - ETA: 3s - - ETA: 1s - loss: 0.475 - ETA: 0s - loss: 0.4748\n",
      "Epoch 2/15\n",
      "1875/1875 [==============================] - 44s 24ms/step - loss: 0.3596 - acc: 0.8682TA: 7s - loss: 0.3596 - acc: 0. - ETA: 7s - loss: 0.3 - ETA: 6 - ETA: 4s - loss: 0.3600 - acc:  - ETA: 4s - loss: 0.3599 -  - ETA: 4s - loss: 0.3599 - acc: 0.868 - ETA: 3s - loss: 0.3599 - acc: 0.8 - ETA: 3s - los\n",
      "Epoch 3/15\n",
      "1875/1875 [==============================] - 42s 23ms/step - loss: 0.3216 - acc: 0.8832 24s -  - ETA: 16s - loss: 0. - ETA: 14s - loss: 0.3229 - acc:  - ETA: 14 - ETA: 11s - loss: 0.3231 - ETA: 10s - ETA: 9s - loss: 0.3232 - ETA: 8 - ETA: 6s - loss: 0.3237 - acc: 0.8 - ETA: 6s - loss: 0.3237 - acc: 0.882 - ETA: 6s - loss: 0.3236 - ac - ETA: 5s -  - ETA: 4s - loss: 0.3237 -  - ETA: 3 - ETA: 1s - loss: 0.3226 - acc: 0.8 - ETA: 1s \n",
      "Epoch 4/15\n",
      "1875/1875 [==============================] - 25s 13ms/step - loss: 0.2997 - acc: 0.8882\n",
      "Epoch 5/15\n",
      "1875/1875 [==============================] - 7s 4ms/step - loss: 0.2800 - acc: 0.8960\n",
      "Epoch 6/15\n",
      "1870/1875 [============================>.] - ETA: 0s - loss: 0.2642 - acc: 0.9004Reached 90% accuracy so cancelling training!\n",
      "1875/1875 [==============================] - 7s 4ms/step - loss: 0.2645 - acc: 0.9003\n"
     ]
    }
   ],
   "source": [
    "history = model.fit(X_train,y_train,epochs = 15,callbacks = [callbacks])"
   ]
  },
  {
   "cell_type": "code",
   "execution_count": 12,
   "metadata": {},
   "outputs": [
    {
     "name": "stdout",
     "output_type": "stream",
     "text": [
      "313/313 [==============================] - 1s 4ms/step - loss: 0.3358 - acc: 0.8820\n"
     ]
    },
    {
     "data": {
      "text/plain": [
       "[0.33583736419677734, 0.8820000290870667]"
      ]
     },
     "execution_count": 12,
     "metadata": {},
     "output_type": "execute_result"
    }
   ],
   "source": [
    "model.evaluate(X_test,y_test)\n"
   ]
  },
  {
   "cell_type": "code",
   "execution_count": 13,
   "metadata": {},
   "outputs": [],
   "source": [
    "cuda.close()"
   ]
  }
 ],
 "metadata": {
  "kernelspec": {
   "display_name": "Python 3",
   "language": "python",
   "name": "python3"
  },
  "language_info": {
   "codemirror_mode": {
    "name": "ipython",
    "version": 3
   },
   "file_extension": ".py",
   "mimetype": "text/x-python",
   "name": "python",
   "nbconvert_exporter": "python",
   "pygments_lexer": "ipython3",
   "version": "3.7.7"
  }
 },
 "nbformat": 4,
 "nbformat_minor": 4
}
