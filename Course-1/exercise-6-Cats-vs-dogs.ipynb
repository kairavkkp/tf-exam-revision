{
 "cells": [
  {
   "cell_type": "code",
   "execution_count": 1,
   "metadata": {},
   "outputs": [],
   "source": [
    "import tensorflow as tf\n",
    "import numpy as np\n",
    "import matplotlib.pyplot as plt\n",
    "%matplotlib inline\n",
    "import random\n",
    "from numba import cuda\n",
    "\n",
    "tf.keras.backend.clear_session()\n"
   ]
  },
  {
   "cell_type": "code",
   "execution_count": null,
   "metadata": {},
   "outputs": [],
   "source": [
    "os.makedirs(main_dir + 'dogs/')\n",
    "os.makedirs(main_dir + 'cats/')"
   ]
  },
  {
   "cell_type": "code",
   "execution_count": 5,
   "metadata": {},
   "outputs": [],
   "source": [
    "main_dir = '../data/dogs-vs-cats/'\n",
    "train_dir = main_dir + 'train/'\n",
    "test_dir = main_dir + 'test1/'\n",
    "dog_dir = main_dir + 'dogs/'\n",
    "cat_dir = main_dir + 'cats/'\n"
   ]
  },
  {
   "cell_type": "code",
   "execution_count": 7,
   "metadata": {},
   "outputs": [
    {
     "name": "stdout",
     "output_type": "stream",
     "text": [
      "Dogs Images :12500\n"
     ]
    },
    {
     "ename": "NameError",
     "evalue": "name 'pritn' is not defined",
     "output_type": "error",
     "traceback": [
      "\u001b[1;31m---------------------------------------------------------------------------\u001b[0m",
      "\u001b[1;31mNameError\u001b[0m                                 Traceback (most recent call last)",
      "\u001b[1;32m<ipython-input-7-31c713271f1e>\u001b[0m in \u001b[0;36m<module>\u001b[1;34m\u001b[0m\n\u001b[0;32m     13\u001b[0m \u001b[1;33m\u001b[0m\u001b[0m\n\u001b[0;32m     14\u001b[0m \u001b[0mprint\u001b[0m\u001b[1;33m(\u001b[0m\u001b[1;34m\"Dogs Images :\"\u001b[0m \u001b[1;33m+\u001b[0m \u001b[0mstr\u001b[0m\u001b[1;33m(\u001b[0m\u001b[0mdog_cnt\u001b[0m\u001b[1;33m)\u001b[0m\u001b[1;33m)\u001b[0m\u001b[1;33m\u001b[0m\u001b[1;33m\u001b[0m\u001b[0m\n\u001b[1;32m---> 15\u001b[1;33m \u001b[0mpritn\u001b[0m\u001b[1;33m(\u001b[0m\u001b[1;34m\"Cats Images : \"\u001b[0m\u001b[1;33m+\u001b[0m \u001b[0mstr\u001b[0m\u001b[1;33m(\u001b[0m\u001b[0mcat_cnt\u001b[0m\u001b[1;33m)\u001b[0m\u001b[1;33m)\u001b[0m\u001b[1;33m\u001b[0m\u001b[1;33m\u001b[0m\u001b[0m\n\u001b[0m",
      "\u001b[1;31mNameError\u001b[0m: name 'pritn' is not defined"
     ]
    }
   ],
   "source": [
    "from shutil import copyfile\n",
    "dog_cnt = 0\n",
    "cat_cnt = 0\n",
    "for files in os.listdir(train_dir):\n",
    "    \n",
    "    if 'cat' in files:\n",
    "        copyfile(train_dir+files,cat_dir+files)\n",
    "        cat_cnt  += 1\n",
    "        \n",
    "    if 'dog' in files:\n",
    "        copyfile(train_dir+files,dog_dir+files)\n",
    "        dog_cnt  += 1\n",
    "        \n"
   ]
  },
  {
   "cell_type": "code",
   "execution_count": 8,
   "metadata": {},
   "outputs": [
    {
     "name": "stdout",
     "output_type": "stream",
     "text": [
      "Dogs Images :12500\n",
      "Cats Images : 12500\n"
     ]
    }
   ],
   "source": [
    "print(\"Dogs Images :\" + str(dog_cnt))\n",
    "print(\"Cats Images : \"+ str(cat_cnt))"
   ]
  },
  {
   "cell_type": "code",
   "execution_count": 10,
   "metadata": {},
   "outputs": [],
   "source": [
    "import os\n",
    "\n",
    "if not os.path.exists('../data/dogs-vs-cats/training/'):\n",
    "    os.makedirs('../data/dogs-vs-cats/training/')\n",
    "\n",
    "if not os.path.exists('../data/dogs-vs-cats/validation/'):\n",
    "    os.makedirs('../data/dogs-vs-cats/validation/')\n",
    "    \n",
    "if not os.path.exists('../data/dogs-vs-cats/training/dogs/'):\n",
    "    os.makedirs('../data/dogs-vs-cats/training/dogs/')\n",
    "\n",
    "if not os.path.exists('../data/dogs-vs-cats/training/cats/'):\n",
    "    os.makedirs('../data/dogs-vs-cats/training/cats/')\n",
    "    \n",
    "\n",
    "if not os.path.exists('../data/dogs-vs-cats/validation/dogs/'):\n",
    "    os.makedirs('../data/dogs-vs-cats/validation/dogs/')\n",
    "\n",
    "if not os.path.exists('../data/dogs-vs-cats/validation/cats/'):\n",
    "    os.makedirs('../data/dogs-vs-cats/validation/cats/')\n"
   ]
  },
  {
   "cell_type": "code",
   "execution_count": 11,
   "metadata": {},
   "outputs": [],
   "source": [
    "train_dir = '../data/dogs-vs-cats/training/'\n",
    "valid_dir = '../data/dogs-vs-cats/validation/'\n",
    "\n",
    "dogs_train_dir = '../data/dogs-vs-cats/training/dogs/'\n",
    "cats_train_dir = '../data/dogs-vs-cats/training/cats/'\n",
    "\n",
    "dogs_valid_dir = '../data/dogs-vs-cats/validation/dogs/'\n",
    "cats_valid_dir = '../data/dogs-vs-cats/validation/cats/'"
   ]
  },
  {
   "cell_type": "code",
   "execution_count": 21,
   "metadata": {},
   "outputs": [],
   "source": [
    "def split_images(SOURCE,SOURCE_TRAIN,SOURCE_VALID,SPLIT):\n",
    "    images = os.listdir(SOURCE)\n",
    "    images_cnt = len(images)\n",
    "    train_split = int(images_cnt * SPLIT)\n",
    "    valid_split = int(images_cnt - train_split)\n",
    "    \n",
    "    train_cnt = 0\n",
    "    valid_cnt = 0\n",
    "    \n",
    "    for cnt in range(train_split):\n",
    "        choice = random.choice(images)\n",
    "        copyfile(SOURCE+choice,SOURCE_TRAIN+choice)\n",
    "        train_cnt += 1\n",
    "        images.remove(choice)\n",
    "    for cnt in range(valid_split):\n",
    "        choice = random.choice(images)\n",
    "        copyfile(SOURCE+choice,SOURCE_VALID+choice)\n",
    "        valid_cnt += 1\n",
    "        images.remove(choice)\n",
    "        \n",
    "    print(\"Train Count : \" +str(train_cnt))\n",
    "    print(\"Valid Count : \"+ str(valid_cnt))\n",
    "        \n",
    "        "
   ]
  },
  {
   "cell_type": "code",
   "execution_count": 22,
   "metadata": {},
   "outputs": [
    {
     "name": "stdout",
     "output_type": "stream",
     "text": [
      "Train Count : 8750\n",
      "Valid Count : 3750\n"
     ]
    }
   ],
   "source": [
    "split_images(dog_dir,dogs_train_dir,dogs_valid_dir,0.7)"
   ]
  },
  {
   "cell_type": "code",
   "execution_count": 23,
   "metadata": {},
   "outputs": [
    {
     "name": "stdout",
     "output_type": "stream",
     "text": [
      "Train Count : 8750\n",
      "Valid Count : 3750\n"
     ]
    }
   ],
   "source": [
    "split_images(cat_dir,cats_train_dir,cats_valid_dir,0.7)"
   ]
  },
  {
   "cell_type": "code",
   "execution_count": 25,
   "metadata": {},
   "outputs": [],
   "source": [
    "from tensorflow.keras.preprocessing.image import ImageDataGenerator"
   ]
  },
  {
   "cell_type": "code",
   "execution_count": 26,
   "metadata": {},
   "outputs": [],
   "source": [
    "train_datagen = ImageDataGenerator(rescale=1/255.0,\n",
    "                                  horizontal_flip = True,\n",
    "                                  vertical_flip = True,\n",
    "                                  rotation_range = 40,\n",
    "                                  shear_range=0.2,\n",
    "                                  width_shift_range = 0.2,\n",
    "                                  fill_mode='nearest')\n",
    "valid_datagen = ImageDataGenerator(rescale=1/255.0)"
   ]
  },
  {
   "cell_type": "code",
   "execution_count": 27,
   "metadata": {},
   "outputs": [
    {
     "name": "stdout",
     "output_type": "stream",
     "text": [
      "Found 17500 images belonging to 2 classes.\n",
      "Found 7500 images belonging to 2 classes.\n"
     ]
    }
   ],
   "source": [
    "batch_size = 16\n",
    "train_generator = train_datagen.flow_from_directory(train_dir,\n",
    "                                                   target_size=(150,150),\n",
    "                                                   class_mode='binary',\n",
    "                                                   batch_size = batch_size)\n",
    "\n",
    "valid_generator = valid_datagen.flow_from_directory(valid_dir,\n",
    "                                                   target_size=(150,150),\n",
    "                                                   class_mode='binary',\n",
    "                                                   batch_size = batch_size)\n",
    "\n"
   ]
  },
  {
   "cell_type": "code",
   "execution_count": 28,
   "metadata": {},
   "outputs": [
    {
     "name": "stdout",
     "output_type": "stream",
     "text": [
      "Model: \"sequential\"\n",
      "_________________________________________________________________\n",
      "Layer (type)                 Output Shape              Param #   \n",
      "=================================================================\n",
      "conv2d (Conv2D)              (None, 148, 148, 16)      448       \n",
      "_________________________________________________________________\n",
      "max_pooling2d (MaxPooling2D) (None, 74, 74, 16)        0         \n",
      "_________________________________________________________________\n",
      "conv2d_1 (Conv2D)            (None, 72, 72, 32)        4640      \n",
      "_________________________________________________________________\n",
      "max_pooling2d_1 (MaxPooling2 (None, 36, 36, 32)        0         \n",
      "_________________________________________________________________\n",
      "conv2d_2 (Conv2D)            (None, 34, 34, 64)        18496     \n",
      "_________________________________________________________________\n",
      "max_pooling2d_2 (MaxPooling2 (None, 17, 17, 64)        0         \n",
      "_________________________________________________________________\n",
      "conv2d_3 (Conv2D)            (None, 15, 15, 64)        36928     \n",
      "_________________________________________________________________\n",
      "max_pooling2d_3 (MaxPooling2 (None, 7, 7, 64)          0         \n",
      "_________________________________________________________________\n",
      "flatten (Flatten)            (None, 3136)              0         \n",
      "_________________________________________________________________\n",
      "dense (Dense)                (None, 128)               401536    \n",
      "_________________________________________________________________\n",
      "dropout (Dropout)            (None, 128)               0         \n",
      "_________________________________________________________________\n",
      "dense_1 (Dense)              (None, 1)                 129       \n",
      "=================================================================\n",
      "Total params: 462,177\n",
      "Trainable params: 462,177\n",
      "Non-trainable params: 0\n",
      "_________________________________________________________________\n"
     ]
    }
   ],
   "source": [
    "model = tf.keras.Sequential([\n",
    "    tf.keras.layers.Conv2D(16,(3,3),activation='relu',input_shape=(150,150,3)), #148x148\n",
    "    tf.keras.layers.MaxPooling2D(2,2),                                          #74x74\n",
    "    tf.keras.layers.Conv2D(32,(3,3),activation='relu'),                         #72x72\n",
    "    tf.keras.layers.MaxPooling2D(2,2),                                          #36x36\n",
    "    tf.keras.layers.Conv2D(64,(3,3),activation='relu'),                         #34x34\n",
    "    tf.keras.layers.MaxPooling2D(2,2),                                          #17x17\n",
    "    tf.keras.layers.Conv2D(64,(3,3),activation='relu'),                         #15x15\n",
    "    tf.keras.layers.MaxPooling2D(2,2),                                          #7x7\n",
    "    tf.keras.layers.Flatten(),\n",
    "    tf.keras.layers.Dense(128,activation='relu'),\n",
    "    tf.keras.layers.Dropout(0.3),\n",
    "    tf.keras.layers.Dense(1,activation='sigmoid')\n",
    "    \n",
    "])\n",
    "\n",
    "model.summary()"
   ]
  },
  {
   "cell_type": "code",
   "execution_count": 29,
   "metadata": {},
   "outputs": [],
   "source": [
    "model.compile(loss = 'binary_crossentropy', optimizer = 'adam', metrics = ['acc'])"
   ]
  },
  {
   "cell_type": "code",
   "execution_count": 32,
   "metadata": {},
   "outputs": [],
   "source": [
    "class MyCallback(tf.keras.callbacks.Callback):\n",
    "    def on_epoch_end(self,epoch,logs):\n",
    "        if logs.get('acc')>0.96:\n",
    "            print(\"Reached 96% accuracy so cancelling training.\")\n",
    "            self.model.stop_training = True"
   ]
  },
  {
   "cell_type": "code",
   "execution_count": 33,
   "metadata": {},
   "outputs": [],
   "source": [
    "callbacks = MyCallback()"
   ]
  },
  {
   "cell_type": "code",
   "execution_count": null,
   "metadata": {},
   "outputs": [
    {
     "name": "stdout",
     "output_type": "stream",
     "text": [
      "Epoch 1/30\n",
      "1094/1093 [==============================] - 278s 254ms/step - loss: 0.6793 - acc: 0.5635 - val_loss: 0.6641 - val_acc: 0.6448\n",
      "Epoch 2/30\n",
      "1094/1093 [==============================] - 148s 135ms/step - loss: 0.6337 - acc: 0.6553 - val_loss: 0.6331 - val_acc: 0.6405\n",
      "Epoch 3/30\n",
      "1094/1093 [==============================] - 147s 134ms/step - loss: 0.6047 - acc: 0.6789 - val_loss: 0.5930 - val_acc: 0.6692\n",
      "Epoch 4/30\n",
      "1094/1093 [==============================] - 148s 136ms/step - loss: 0.5749 - acc: 0.7034 - val_loss: 0.6202 - val_acc: 0.6721\n",
      "Epoch 5/30\n",
      "1094/1093 [==============================] - 149s 137ms/step - loss: 0.5457 - acc: 0.7291 - val_loss: 0.5782 - val_acc: 0.7127\n",
      "Epoch 6/30\n",
      "1094/1093 [==============================] - 152s 139ms/step - loss: 0.5279 - acc: 0.7366 - val_loss: 0.5118 - val_acc: 0.7497\n",
      "Epoch 7/30\n",
      "1094/1093 [==============================] - 164s 150ms/step - loss: 0.5127 - acc: 0.7497 - val_loss: 0.5414 - val_acc: 0.7343\n",
      "Epoch 8/30\n",
      "1094/1093 [==============================] - 164s 150ms/step - loss: 0.4859 - acc: 0.7685 - val_loss: 0.4485 - val_acc: 0.7951\n",
      "Epoch 9/30\n",
      "1094/1093 [==============================] - 167s 152ms/step - loss: 0.4708 - acc: 0.7755 - val_loss: 0.5308 - val_acc: 0.7435\n",
      "Epoch 10/30\n",
      "1094/1093 [==============================] - 163s 149ms/step - loss: 0.4594 - acc: 0.7851 - val_loss: 0.4496 - val_acc: 0.7840\n",
      "Epoch 11/30\n",
      "1094/1093 [==============================] - 170s 155ms/step - loss: 0.4489 - acc: 0.7913 - val_loss: 0.4144 - val_acc: 0.8077\n",
      "Epoch 12/30\n",
      "1094/1093 [==============================] - 170s 155ms/step - loss: 0.4334 - acc: 0.8010 - val_loss: 0.4111 - val_acc: 0.8144\n",
      "Epoch 13/30\n",
      "1094/1093 [==============================] - 170s 155ms/step - loss: 0.4235 - acc: 0.8062 - val_loss: 0.3944 - val_acc: 0.8263\n",
      "Epoch 14/30\n",
      "1094/1093 [==============================] - 166s 152ms/step - loss: 0.4071 - acc: 0.8174 - val_loss: 0.4173 - val_acc: 0.8111\n",
      "Epoch 15/30\n",
      "1094/1093 [==============================] - 171s 156ms/step - loss: 0.4114 - acc: 0.8150 - val_loss: 0.3819 - val_acc: 0.8256\n",
      "Epoch 16/30\n",
      "1094/1093 [==============================] - 179s 163ms/step - loss: 0.3995 - acc: 0.8209 - val_loss: 0.3641 - val_acc: 0.8357\n",
      "Epoch 17/30\n",
      "1094/1093 [==============================] - 176s 161ms/step - loss: 0.3897 - acc: 0.8221 - val_loss: 0.3595 - val_acc: 0.8327\n",
      "Epoch 18/30\n",
      "1094/1093 [==============================] - 174s 159ms/step - loss: 0.3846 - acc: 0.8295 - val_loss: 0.4238 - val_acc: 0.8035\n",
      "Epoch 19/30\n",
      "1094/1093 [==============================] - 172s 157ms/step - loss: 0.3726 - acc: 0.8347 - val_loss: 0.3594 - val_acc: 0.8412\n",
      "Epoch 20/30\n",
      "1094/1093 [==============================] - 177s 162ms/step - loss: 0.3739 - acc: 0.8328 - val_loss: 0.3569 - val_acc: 0.8443\n",
      "Epoch 21/30\n",
      "1094/1093 [==============================] - 171s 156ms/step - loss: 0.3662 - acc: 0.8392 - val_loss: 0.3908 - val_acc: 0.8208\n",
      "Epoch 22/30\n",
      "1094/1093 [==============================] - 171s 156ms/step - loss: 0.3631 - acc: 0.8402 - val_loss: 0.3373 - val_acc: 0.8523\n",
      "Epoch 23/30\n",
      " 971/1093 [=========================>....] - ETA: 16s - loss: 0.3516 - acc: 0.8452"
     ]
    }
   ],
   "source": [
    "history = model.fit_generator(train_generator,\n",
    "                             validation_data=valid_generator,\n",
    "                             epochs = 30,\n",
    "                             steps_per_epoch=17500/batch_size,\n",
    "                             validation_steps=7500/batch_size,\n",
    "                             callbacks=[callbacks])"
   ]
  }
 ],
 "metadata": {
  "kernelspec": {
   "display_name": "Python 3",
   "language": "python",
   "name": "python3"
  },
  "language_info": {
   "codemirror_mode": {
    "name": "ipython",
    "version": 3
   },
   "file_extension": ".py",
   "mimetype": "text/x-python",
   "name": "python",
   "nbconvert_exporter": "python",
   "pygments_lexer": "ipython3",
   "version": "3.7.7"
  }
 },
 "nbformat": 4,
 "nbformat_minor": 4
}
